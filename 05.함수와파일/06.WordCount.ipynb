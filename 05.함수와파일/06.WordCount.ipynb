{
 "cells": [
  {
   "attachments": {},
   "cell_type": "markdown",
   "metadata": {},
   "source": [
    "### 도전 문제: 파일의 단어 갯수 세기\n",
    "    - 총 단어수\n",
    "    - 고유 단어수\n",
    "    - 가장 많이 사용된 단어 10개"
   ]
  },
  {
   "cell_type": "code",
   "execution_count": 32,
   "metadata": {},
   "outputs": [
    {
     "name": "stdout",
     "output_type": "stream",
     "text": [
      "528 261\n"
     ]
    }
   ],
   "source": [
    "import re\n",
    "import string\n",
    "with open('data/lorem.txt', 'r') as file:\n",
    "    contents = file.read()\n",
    "\n",
    "clean_contents = re.sub('['+string.punctuation+']', ' ', contents)\n",
    "clean_contents = clean_contents.replace('\\n', ' ').lower()\n",
    "words = clean_contents.split()\n",
    "total_words = len(words)\n",
    "unique_words = len(set(words))\n",
    "print(total_words, unique_words)"
   ]
  },
  {
   "cell_type": "code",
   "execution_count": 33,
   "metadata": {},
   "outputs": [
    {
     "name": "stdout",
     "output_type": "stream",
     "text": [
      "{'what': 1, 'is': 8, 'lorem': 19, 'ipsum': 19, 'simply': 2, 'dummy': 2, 'text': 5, 'of': 21, 'the': 28, 'printing': 1, 'and': 10, 'typesetting': 2, 'industry': 2, 'has': 4, 'been': 1, 's': 1, 'standard': 2, 'ever': 1, 'since': 2, '1500s': 2, 'when': 2, 'an': 1, 'unknown': 1, 'printer': 1, 'took': 1, 'a': 15, 'galley': 1, 'type': 2, 'scrambled': 1, 'it': 11, 'to': 7, 'make': 1, 'specimen': 1, 'book': 2, 'survived': 1, 'not': 2, 'only': 1, 'five': 1, 'centuries': 1, 'but': 2, 'also': 2, 'leap': 1, 'into': 1, 'electronic': 1, 'remaining': 1, 'essentially': 1, 'unchanged': 1, 'was': 1, 'popularised': 1, 'in': 10, '1960s': 1, 'with': 3, 'release': 1, 'letraset': 1, 'sheets': 1, 'containing': 1, 'passages': 2, 'more': 3, 'recently': 1, 'desktop': 2, 'publishing': 2, 'software': 1, 'like': 3, 'aldus': 1, 'pagemaker': 1, 'including': 1, 'versions': 3, 'why': 1, 'do': 1, 'we': 1, 'use': 3, 'long': 1, 'established': 1, 'fact': 1, 'that': 2, 'reader': 1, 'will': 2, 'be': 2, 'distracted': 1, 'by': 7, 'readable': 2, 'content': 3, 'page': 2, 'looking': 1, 'at': 2, 'its': 1, 'layout': 1, 'point': 1, 'using': 2, 'or': 3, 'less': 1, 'normal': 1, 'distribution': 1, 'letters': 1, 'as': 3, 'opposed': 1, 'here': 2, 'making': 3, 'look': 2, 'english': 2, 'many': 3, 'packages': 1, 'web': 2, 'editors': 1, 'now': 1, 'their': 3, 'default': 1, 'model': 2, 'search': 1, 'for': 2, 'uncover': 1, 'sites': 1, 'still': 1, 'infancy': 1, 'various': 1, 'have': 2, 'evolved': 1, 'over': 3, 'years': 2, 'sometimes': 2, 'accident': 1, 'on': 4, 'purpose': 1, 'injected': 3, 'humour': 3, 'where': 2, 'does': 1, 'come': 1, 'from': 8, 'contrary': 1, 'popular': 2, 'belief': 1, 'random': 1, 'roots': 1, 'piece': 1, 'classical': 2, 'latin': 4, 'literature': 2, '45': 2, 'bc': 2, '2000': 1, 'old': 1, 'richard': 1, 'mcclintock': 1, 'professor': 1, 'hampden': 1, 'sydney': 1, 'college': 1, 'virginia': 1, 'looked': 1, 'up': 1, 'one': 1, 'obscure': 1, 'words': 4, 'consectetur': 1, 'passage': 2, 'going': 2, 'through': 1, 'cites': 1, 'word': 1, 'discovered': 1, 'undoubtable': 1, 'source': 1, 'comes': 2, 'sections': 2, '1': 5, '10': 5, '32': 3, '33': 2, 'de': 2, 'finibus': 2, 'bonorum': 2, 'et': 2, 'malorum': 2, 'extremes': 1, 'good': 1, 'evil': 1, 'cicero': 2, 'written': 1, 'this': 2, 'treatise': 1, 'theory': 1, 'ethics': 1, 'very': 1, 'during': 1, 'renaissance': 1, 'first': 2, 'line': 2, 'dolor': 1, 'sit': 1, 'amet': 1, 'section': 1, 'chunk': 1, 'used': 1, 'reproduced': 2, 'below': 1, 'those': 1, 'interested': 1, 'are': 3, 'exact': 1, 'original': 1, 'form': 2, 'accompanied': 1, '1914': 1, 'translation': 1, 'h': 1, 'rackham': 1, 'can': 1, 'i': 1, 'get': 1, 'some': 2, 'there': 2, 'variations': 1, 'available': 1, 'majority': 1, 'suffered': 1, 'alteration': 1, 'randomised': 1, 'which': 2, 'don': 1, 't': 2, 'even': 1, 'slightly': 1, 'believable': 1, 'if': 1, 'you': 2, 'need': 1, 'sure': 1, 'isn': 1, 'anything': 1, 'embarrassing': 1, 'hidden': 1, 'middle': 1, 'all': 1, 'generators': 1, 'internet': 2, 'tend': 1, 'repeat': 1, 'predefined': 1, 'chunks': 1, 'necessary': 1, 'true': 1, 'generator': 1, 'uses': 1, 'dictionary': 1, '200': 1, 'combined': 1, 'handful': 1, 'sentence': 1, 'structures': 1, 'generate': 1, 'looks': 1, 'reasonable': 1, 'generated': 1, 'therefore': 1, 'always': 1, 'free': 1, 'repetition': 1, 'non': 1, 'characteristic': 1, 'etc': 1}\n"
     ]
    }
   ],
   "source": [
    "temp = {}\n",
    "for word in words:\n",
    "    if word in temp.keys():\n",
    "        temp[word] +=1\n",
    "    else:\n",
    "        temp[word] = 1\n",
    "print(temp)"
   ]
  },
  {
   "cell_type": "code",
   "execution_count": 34,
   "metadata": {},
   "outputs": [
    {
     "name": "stdout",
     "output_type": "stream",
     "text": [
      "[('the', 28), ('of', 21), ('lorem', 19), ('ipsum', 19), ('a', 15), ('it', 11), ('and', 10), ('in', 10), ('is', 8), ('from', 8)]\n"
     ]
    }
   ],
   "source": [
    "\n",
    "resutl = sorted(temp.items(),key=lambda x: x[1], reverse=True)[:10]\n",
    "print(resutl)"
   ]
  },
  {
   "cell_type": "code",
   "execution_count": null,
   "metadata": {},
   "outputs": [],
   "source": []
  }
 ],
 "metadata": {
  "kernelspec": {
   "display_name": "base",
   "language": "python",
   "name": "python3"
  },
  "language_info": {
   "codemirror_mode": {
    "name": "ipython",
    "version": 3
   },
   "file_extension": ".py",
   "mimetype": "text/x-python",
   "name": "python",
   "nbconvert_exporter": "python",
   "pygments_lexer": "ipython3",
   "version": "3.10.9"
  },
  "orig_nbformat": 4
 },
 "nbformat": 4,
 "nbformat_minor": 2
}
