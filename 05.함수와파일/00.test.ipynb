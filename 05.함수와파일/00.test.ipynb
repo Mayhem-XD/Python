{
 "cells": [
  {
   "cell_type": "code",
   "execution_count": null,
   "metadata": {},
   "outputs": [],
   "source": [
    "import re\n",
    "from collections import Counter\n",
    "\n",
    "# Read text from file\n",
    "with open('filename.txt', 'r') as file:\n",
    "    text = file.read()\n",
    "\n",
    "# Split text into words\n",
    "words = re.findall(r'\\b\\w+\\b', text)\n",
    "\n",
    "# Count the total number of words\n",
    "total_words = len(words)\n",
    "\n",
    "# Count the number of unique words\n",
    "unique_words = len(set(words))\n",
    "\n",
    "# Count the frequency of each word and get the top 10\n",
    "word_counts = Counter(words)\n",
    "top_words = word_counts.most_common(10)\n",
    "\n",
    "# Print the results\n",
    "print(f\"Total number of words: {total_words}\")\n",
    "print(f\"Number of unique words: {unique_words}\")\n",
    "print(\"Top 10 most used words:\")\n",
    "for word, count in top_words:\n",
    "    print(f\"{word}: {count}\")\n"
   ]
  }
 ],
 "metadata": {
  "language_info": {
   "name": "python"
  },
  "orig_nbformat": 4
 },
 "nbformat": 4,
 "nbformat_minor": 2
}
