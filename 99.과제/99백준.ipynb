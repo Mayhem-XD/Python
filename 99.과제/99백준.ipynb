{
 "cells": [
  {
   "cell_type": "code",
   "execution_count": 7,
   "metadata": {},
   "outputs": [],
   "source": [
    "n = int(input())\n",
    "words = {}\n",
    "for i in range(n):\n",
    "    word = input().strip()\n",
    "    length = len(word)\n",
    "    if length not in words:\n",
    "        words[length] = []\n",
    "    if word not in words[length]:\n",
    "        words[length].append(word)\n",
    "        \n",
    "\n"
   ]
  },
  {
   "cell_type": "code",
   "execution_count": 8,
   "metadata": {},
   "outputs": [
    {
     "name": "stdout",
     "output_type": "stream",
     "text": [
      "{1: ['a', 'b', 'e', 'd', 's']}\n"
     ]
    }
   ],
   "source": [
    "print(words)"
   ]
  },
  {
   "cell_type": "code",
   "execution_count": 2,
   "metadata": {},
   "outputs": [],
   "source": [
    "import re\n",
    "word_dict = {key : set() for key in range(1,51)}\n",
    "num = int(input())\n",
    "for j in range(num):\n",
    "    words = input(f'{j+1}번째 입력').split()\n",
    "    for word in words:\n",
    "        clean_word = re.sub('[\\d]+', '', word)\n",
    "        length = len(clean_word)\n",
    "        if length > 0:\n",
    "            word_dict[length].add(clean_word)\n"
   ]
  },
  {
   "cell_type": "code",
   "execution_count": 3,
   "metadata": {},
   "outputs": [
    {
     "name": "stdout",
     "output_type": "stream",
     "text": [
      "as\n",
      "cx\n",
      "eds\n",
      "p[as\n",
      "se,x\n",
      "layca\n",
      "oioes\n",
      "ojwehr\n",
      "sdfsdf\n"
     ]
    }
   ],
   "source": [
    "for key in range(1,51):\n",
    "    if len(word_dict[key]) == 0:\n",
    "        continue\n",
    "    for word in sorted(word_dict[key]):\n",
    "        print(word)"
   ]
  },
  {
   "cell_type": "code",
   "execution_count": 18,
   "metadata": {},
   "outputs": [],
   "source": [
    "def sum_of_decomposition(num):\n",
    "    for i in range(1,num):\n",
    "        j_sum = 0\n",
    "        for j in str(i):\n",
    "            j_sum += int(j)\n",
    "            if i + j_sum == num:\n",
    "                return i\n"
   ]
  },
  {
   "cell_type": "code",
   "execution_count": 16,
   "metadata": {},
   "outputs": [],
   "source": [
    "def sum_of_decomposition_(num):\n",
    "    for i in range(num - 9 * len(str(num)), num):\n",
    "        j_sum = sum(int(j) for j in str(i))\n",
    "        if j_sum + i == num:\n",
    "            return i"
   ]
  },
  {
   "cell_type": "code",
   "execution_count": 21,
   "metadata": {},
   "outputs": [
    {
     "name": "stdout",
     "output_type": "stream",
     "text": [
      "449\n"
     ]
    }
   ],
   "source": [
    "num = int(input())\n",
    "result = sum_of_decomposition(num)\n",
    "print(result)"
   ]
  },
  {
   "cell_type": "code",
   "execution_count": 31,
   "metadata": {},
   "outputs": [
    {
     "name": "stdout",
     "output_type": "stream",
     "text": [
      "3kg 3 5kg 45\n"
     ]
    }
   ],
   "source": [
    "num = int(input())\n",
    "try:\n",
    "    for i in range(num):\n",
    "        for j in range(num):\n",
    "            if num == 3*i + 5*j:\n",
    "                print(f'3kg {i} 5kg {j}')\n",
    "                raise Exception\n",
    "    print('-1')\n",
    "except:\n",
    "    pass\n"
   ]
  },
  {
   "cell_type": "code",
   "execution_count": 29,
   "metadata": {},
   "outputs": [
    {
     "name": "stdout",
     "output_type": "stream",
     "text": [
      "5kg 4, 3kg 0\n"
     ]
    }
   ],
   "source": [
    "num = int(input())\n",
    "num5, num3 = 0,0\n",
    "try:\n",
    "    for i in range(num// 5, num//3 +1):\n",
    "        for k in range(i+1):\n",
    "            if num == 3 * k + 5 * (i - k):\n",
    "                num5 = i - k\n",
    "                num3 = k\n",
    "                raise Exception\n",
    "except:\n",
    "    print(f'5kg {num5}, 3kg {num3}')\n",
    "else:\n",
    "    print('-1')"
   ]
  },
  {
   "cell_type": "code",
   "execution_count": 47,
   "metadata": {},
   "outputs": [
    {
     "name": "stdout",
     "output_type": "stream",
     "text": [
      "-1 -1 1 1 2 7 -1 -1 1 1 2 7 "
     ]
    }
   ],
   "source": [
    "chess_set = '1 1 2 2 2 8'\n",
    "chess_set = [int(x) for x in chess_set.split()]\n",
    "chess_set_input = list(map(int,input('King Queen Rook Bishop Knight Pawn >').split()))\n",
    "temp = [chess_set[i]-chess_set_input[i] for i in range(6)]\n",
    "print(*temp, end=' ')\n",
    "for t in temp:\n",
    "    print(t, end=' ')\n"
   ]
  },
  {
   "cell_type": "code",
   "execution_count": null,
   "metadata": {},
   "outputs": [],
   "source": [
    "pieces = list(map(int,input().split)())\n",
    "for i in range(len(pieces)):\n",
    "    print(chess_set[i]-pieces[i],end=' ')\n",
    "print()"
   ]
  },
  {
   "cell_type": "code",
   "execution_count": 45,
   "metadata": {},
   "outputs": [],
   "source": [
    "def input_area(test_case):\n",
    "    results = []\n",
    "    for i in range(test_case):\n",
    "        input_list = input(f'{i+1} 번째입력> ')\n",
    "        numbers_list = list(map(int,input_list.split()))\n",
    "        scr = numbers_list[1:]\n",
    "        results.append(calc(scr))\n",
    "    return results\n",
    "\n",
    "def calc(scr):\n",
    "    avg = sum(scr)/len(scr)\n",
    "    temp =(sum([1 for sc in scr if sc > avg])/len(scr))*100\n",
    "    # temp = (sum(map(lambda x: x>avg,scr))/len(scr))*100\n",
    "    return f'{temp:.3f}%'"
   ]
  },
  {
   "cell_type": "code",
   "execution_count": 46,
   "metadata": {},
   "outputs": [
    {
     "name": "stdout",
     "output_type": "stream",
     "text": [
      "40.000%\n"
     ]
    }
   ],
   "source": [
    "test_case = int(input('input count> '))\n",
    "result = input_area(test_case)\n",
    "for res in result:\n",
    "    print(res)"
   ]
  },
  {
   "cell_type": "code",
   "execution_count": null,
   "metadata": {},
   "outputs": [],
   "source": [
    "def above_average(score_list):\n",
    "    avg = sum(score_list)/len(score_list)\n",
    "    count = 0\n",
    "    for score in score_list:\n",
    "        if score > avg:\n",
    "            count += 1\n",
    "    print(round(((count/len(score_list))*100),3),'%')\n",
    "num = int(input())\n",
    "for i in range(num):\n",
    "    input_list = input().split()"
   ]
  },
  {
   "cell_type": "code",
   "execution_count": 59,
   "metadata": {},
   "outputs": [
    {
     "name": "stdout",
     "output_type": "stream",
     "text": [
      "숫자 54321의 각 자리의 합은 15\n"
     ]
    }
   ],
   "source": [
    "num = int(input())\n",
    "str_input = input()\n",
    "sum_of_digit = 0\n",
    "for i in range(num):\n",
    "    sum_of_digit += int(str_input[i])\n",
    "print(f'숫자 {str_input}의 각 자리의 합은 {sum_of_digit}')"
   ]
  },
  {
   "cell_type": "code",
   "execution_count": 60,
   "metadata": {},
   "outputs": [
    {
     "name": "stdout",
     "output_type": "stream",
     "text": [
      "2 -1\n"
     ]
    }
   ],
   "source": [
    "a,b,c,d,e,f = map(int,input().split())\n",
    "\n",
    "for x in range(-999,999):\n",
    "    for y in range(-999,999):\n",
    "        if a*x + b*y == c and d*x + e*y == f:\n",
    "            print(x,y)\n",
    "            break"
   ]
  },
  {
   "cell_type": "code",
   "execution_count": null,
   "metadata": {},
   "outputs": [],
   "source": []
  }
 ],
 "metadata": {
  "kernelspec": {
   "display_name": "base",
   "language": "python",
   "name": "python3"
  },
  "language_info": {
   "codemirror_mode": {
    "name": "ipython",
    "version": 3
   },
   "file_extension": ".py",
   "mimetype": "text/x-python",
   "name": "python",
   "nbconvert_exporter": "python",
   "pygments_lexer": "ipython3",
   "version": "3.10.10"
  },
  "orig_nbformat": 4
 },
 "nbformat": 4,
 "nbformat_minor": 2
}
