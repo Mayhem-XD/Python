{
 "cells": [
  {
   "attachments": {},
   "cell_type": "markdown",
   "metadata": {},
   "source": [
    "### 1"
   ]
  },
  {
   "cell_type": "code",
   "execution_count": 1,
   "metadata": {},
   "outputs": [],
   "source": [
    "#11720, 1181, 3003, 4344, 25206, 2231, 19532"
   ]
  },
  {
   "cell_type": "code",
   "execution_count": 32,
   "metadata": {},
   "outputs": [
    {
     "name": "stdout",
     "output_type": "stream",
     "text": [
      "[0, 0, 4, 5, 1, 3]\n"
     ]
    }
   ],
   "source": [
    "chess_set = '1 1 2 2 2 8'.split()\n",
    "chess_set_input = list(map(int,input('킹퀸룩비숍나이트폰 순서>').split()))\n",
    "print(chess_set_input)"
   ]
  },
  {
   "cell_type": "code",
   "execution_count": 33,
   "metadata": {},
   "outputs": [
    {
     "name": "stdout",
     "output_type": "stream",
     "text": [
      "1 1 -2 -3 1 5 "
     ]
    }
   ],
   "source": [
    "for i in range(6):\n",
    "    if chess_set_input[i] >= 0:\n",
    "        temp = int(chess_set[i])-chess_set_input[i]\n",
    "    else:\n",
    "        for k in range(1,9):\n",
    "            if 0 == chess_set_input[i] + k:\n",
    "                temp = k\n",
    "    print(temp, end=' ')\n",
    "    \n",
    "\n"
   ]
  },
  {
   "cell_type": "code",
   "execution_count": null,
   "metadata": {},
   "outputs": [],
   "source": []
  }
 ],
 "metadata": {
  "kernelspec": {
   "display_name": "base",
   "language": "python",
   "name": "python3"
  },
  "language_info": {
   "codemirror_mode": {
    "name": "ipython",
    "version": 3
   },
   "file_extension": ".py",
   "mimetype": "text/x-python",
   "name": "python",
   "nbconvert_exporter": "python",
   "pygments_lexer": "ipython3",
   "version": "3.10.10"
  },
  "orig_nbformat": 4
 },
 "nbformat": 4,
 "nbformat_minor": 2
}
