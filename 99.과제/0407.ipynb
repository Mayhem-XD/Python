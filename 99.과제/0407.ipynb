{
 "cells": [
  {
   "attachments": {},
   "cell_type": "markdown",
   "metadata": {},
   "source": [
    "### 과제"
   ]
  },
  {
   "cell_type": "code",
   "execution_count": 1,
   "metadata": {},
   "outputs": [],
   "source": [
    "#11720, 1181, 3003, 4344, 25206, 2231, 19532"
   ]
  },
  {
   "attachments": {},
   "cell_type": "markdown",
   "metadata": {},
   "source": [
    "- 3003"
   ]
  },
  {
   "cell_type": "code",
   "execution_count": 1,
   "metadata": {},
   "outputs": [
    {
     "name": "stdout",
     "output_type": "stream",
     "text": [
      "[0, 0, 4, 5, 1, 3]\n"
     ]
    }
   ],
   "source": [
    "chess_set = '1 1 2 2 2 8'.split()\n",
    "chess_set_input = list(map(int,input('킹퀸룩비숍나이트폰 순서>').split()))\n",
    "print(chess_set_input)"
   ]
  },
  {
   "cell_type": "code",
   "execution_count": 5,
   "metadata": {},
   "outputs": [
    {
     "name": "stdout",
     "output_type": "stream",
     "text": [
      "1 1 -2 -3 1 5 "
     ]
    }
   ],
   "source": [
    "for i in range(6):\n",
    "    temp = int(chess_set[i])-chess_set_input[i]\n",
    "    print(temp, end=' ')"
   ]
  },
  {
   "cell_type": "code",
   "execution_count": 7,
   "metadata": {},
   "outputs": [
    {
     "name": "stdout",
     "output_type": "stream",
     "text": [
      "1 1 -2 -3 1 5 "
     ]
    }
   ],
   "source": [
    "temp = [int(chess_set[i])-chess_set_input[i] for i in range(6)]\n",
    "for tem in temp:\n",
    "    print(tem,end=' ')"
   ]
  },
  {
   "attachments": {},
   "cell_type": "markdown",
   "metadata": {},
   "source": [
    "- 3003 \n",
    "    - result"
   ]
  },
  {
   "cell_type": "code",
   "execution_count": 9,
   "metadata": {},
   "outputs": [
    {
     "name": "stdout",
     "output_type": "stream",
     "text": [
      "1 1 -2 -3 1 5 "
     ]
    }
   ],
   "source": [
    "chess_set = '1 1 2 2 2 8'\n",
    "chess_set = [int(x) for x in chess_set.split()]\n",
    "chess_set_input = list(map(int,input('King Queen Rook Bishop Knight Pawn >').split()))\n",
    "temp = [chess_set[i]-chess_set_input[i] for i in range(6)]\n",
    "print(*temp, end=' ')\n"
   ]
  },
  {
   "attachments": {},
   "cell_type": "markdown",
   "metadata": {},
   "source": [
    "- 1181"
   ]
  },
  {
   "cell_type": "code",
   "execution_count": 21,
   "metadata": {},
   "outputs": [
    {
     "name": "stdout",
     "output_type": "stream",
     "text": [
      "but\n",
      "i\n",
      "wont\n",
      "hesitate\n",
      "no\n",
      "more\n",
      "no\n",
      "more\n",
      "it\n",
      "cannot\n",
      "wait\n",
      "im\n",
      "yours\n"
     ]
    }
   ],
   "source": [
    "import re, string\n",
    "words_container = str(input('input> '))\n",
    "clean_words = re.sub('[\\d'+string.punctuation+']', ' ', words_container)\n",
    "words = clean_words.split()\n",
    "for word in words:\n",
    "    print(word)"
   ]
  },
  {
   "cell_type": "code",
   "execution_count": 22,
   "metadata": {},
   "outputs": [
    {
     "name": "stdout",
     "output_type": "stream",
     "text": [
      "i\n",
      "no\n",
      "no\n",
      "it\n",
      "im\n",
      "but\n",
      "wont\n",
      "more\n",
      "more\n",
      "wait\n",
      "yours\n",
      "cannot\n",
      "hesitate\n"
     ]
    }
   ],
   "source": [
    "sorted_words = sorted(words, key=len)           # key=len : 각 요소의 길이가 비교 키로 사용됨\n",
    "for word in sorted_words:\n",
    "    print(word)\n"
   ]
  },
  {
   "attachments": {},
   "cell_type": "markdown",
   "metadata": {},
   "source": [
    "- 1181\n",
    "    - result"
   ]
  },
  {
   "cell_type": "code",
   "execution_count": 23,
   "metadata": {},
   "outputs": [
    {
     "name": "stdout",
     "output_type": "stream",
     "text": [
      "i\n",
      "no\n",
      "no\n",
      "it\n",
      "im\n",
      "but\n",
      "wont\n",
      "more\n",
      "more\n",
      "wait\n",
      "yours\n",
      "cannot\n",
      "hesitate\n"
     ]
    }
   ],
   "source": [
    "import re, string\n",
    "words_container = str(input('input> '))\n",
    "clean_words = re.sub('[\\d'+string.punctuation+']', ' ', words_container)\n",
    "words = clean_words.split()\n",
    "sorted_words = sorted(words, key=len)           # key=len : 각 요소의 길이가 비교 키로 사용됨\n",
    "for word in sorted_words:\n",
    "    print(word)"
   ]
  },
  {
   "cell_type": "code",
   "execution_count": null,
   "metadata": {},
   "outputs": [],
   "source": []
  },
  {
   "attachments": {},
   "cell_type": "markdown",
   "metadata": {},
   "source": [
    "- 11720"
   ]
  },
  {
   "cell_type": "code",
   "execution_count": 46,
   "metadata": {},
   "outputs": [
    {
     "name": "stdout",
     "output_type": "stream",
     "text": [
      "46\n"
     ]
    }
   ],
   "source": [
    "count, numbers = list(map(str,input('input> ').split()))\n",
    "sum_numbers = 0\n",
    "for i in range(int(count)):\n",
    "    sum_numbers += int(numbers[i])\n",
    "print(sum_numbers)\n",
    "\n"
   ]
  },
  {
   "attachments": {},
   "cell_type": "markdown",
   "metadata": {},
   "source": [
    "- 4344"
   ]
  },
  {
   "cell_type": "code",
   "execution_count": null,
   "metadata": {},
   "outputs": [],
   "source": [
    "count, nos, scr = list(map(int,input('input> ').split()))"
   ]
  }
 ],
 "metadata": {
  "kernelspec": {
   "display_name": "base",
   "language": "python",
   "name": "python3"
  },
  "language_info": {
   "codemirror_mode": {
    "name": "ipython",
    "version": 3
   },
   "file_extension": ".py",
   "mimetype": "text/x-python",
   "name": "python",
   "nbconvert_exporter": "python",
   "pygments_lexer": "ipython3",
   "version": "3.10.9"
  },
  "orig_nbformat": 4
 },
 "nbformat": 4,
 "nbformat_minor": 2
}
