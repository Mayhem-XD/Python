{
 "cells": [
  {
   "attachments": {},
   "cell_type": "markdown",
   "metadata": {},
   "source": [
    "### 과제"
   ]
  },
  {
   "cell_type": "code",
   "execution_count": 1,
   "metadata": {},
   "outputs": [],
   "source": [
    "#11720, 1181, 3003, 4344, 25206, 2231, 19532"
   ]
  },
  {
   "attachments": {},
   "cell_type": "markdown",
   "metadata": {},
   "source": [
    "- 3003"
   ]
  },
  {
   "cell_type": "code",
   "execution_count": 1,
   "metadata": {},
   "outputs": [
    {
     "name": "stdout",
     "output_type": "stream",
     "text": [
      "[0, 0, 4, 5, 1, 3]\n"
     ]
    }
   ],
   "source": [
    "chess_set = '1 1 2 2 2 8'.split()\n",
    "chess_set_input = list(map(int,input('킹퀸룩비숍나이트폰 순서>').split()))\n",
    "print(chess_set_input)"
   ]
  },
  {
   "cell_type": "code",
   "execution_count": 5,
   "metadata": {},
   "outputs": [
    {
     "name": "stdout",
     "output_type": "stream",
     "text": [
      "1 1 -2 -3 1 5 "
     ]
    }
   ],
   "source": [
    "for i in range(6):\n",
    "    temp = int(chess_set[i])-chess_set_input[i]\n",
    "    print(temp, end=' ')"
   ]
  },
  {
   "cell_type": "code",
   "execution_count": 7,
   "metadata": {},
   "outputs": [
    {
     "name": "stdout",
     "output_type": "stream",
     "text": [
      "1 1 -2 -3 1 5 "
     ]
    }
   ],
   "source": [
    "temp = [int(chess_set[i])-chess_set_input[i] for i in range(6)]\n",
    "for tem in temp:\n",
    "    print(tem,end=' ')"
   ]
  },
  {
   "attachments": {},
   "cell_type": "markdown",
   "metadata": {},
   "source": [
    "- 3003 \n",
    "    - result"
   ]
  },
  {
   "cell_type": "code",
   "execution_count": 9,
   "metadata": {},
   "outputs": [
    {
     "name": "stdout",
     "output_type": "stream",
     "text": [
      "1 1 -2 -3 1 5 "
     ]
    }
   ],
   "source": [
    "chess_set = '1 1 2 2 2 8'\n",
    "chess_set = [int(x) for x in chess_set.split()]\n",
    "chess_set_input = list(map(int,input('King Queen Rook Bishop Knight Pawn >').split()))\n",
    "temp = [chess_set[i]-chess_set_input[i] for i in range(6)]\n",
    "print(*temp, end=' ')\n"
   ]
  },
  {
   "attachments": {},
   "cell_type": "markdown",
   "metadata": {},
   "source": [
    "- 1181"
   ]
  },
  {
   "cell_type": "code",
   "execution_count": 21,
   "metadata": {},
   "outputs": [
    {
     "name": "stdout",
     "output_type": "stream",
     "text": [
      "but\n",
      "i\n",
      "wont\n",
      "hesitate\n",
      "no\n",
      "more\n",
      "no\n",
      "more\n",
      "it\n",
      "cannot\n",
      "wait\n",
      "im\n",
      "yours\n"
     ]
    }
   ],
   "source": [
    "import re, string\n",
    "words_container = str(input('input> '))\n",
    "clean_words = re.sub('[\\d'+string.punctuation+']', ' ', words_container)\n",
    "words = clean_words.split()\n",
    "for word in words:\n",
    "    print(word)"
   ]
  },
  {
   "cell_type": "code",
   "execution_count": 22,
   "metadata": {},
   "outputs": [
    {
     "name": "stdout",
     "output_type": "stream",
     "text": [
      "i\n",
      "no\n",
      "no\n",
      "it\n",
      "im\n",
      "but\n",
      "wont\n",
      "more\n",
      "more\n",
      "wait\n",
      "yours\n",
      "cannot\n",
      "hesitate\n"
     ]
    }
   ],
   "source": [
    "sorted_words = sorted(words, key=len)           # key=len : 각 요소의 길이가 비교 키로 사용됨\n",
    "for word in sorted_words:\n",
    "    print(word)\n"
   ]
  },
  {
   "attachments": {},
   "cell_type": "markdown",
   "metadata": {},
   "source": [
    "- 1181\n",
    "    - result"
   ]
  },
  {
   "cell_type": "code",
   "execution_count": 23,
   "metadata": {},
   "outputs": [
    {
     "name": "stdout",
     "output_type": "stream",
     "text": [
      "i\n",
      "no\n",
      "no\n",
      "it\n",
      "im\n",
      "but\n",
      "wont\n",
      "more\n",
      "more\n",
      "wait\n",
      "yours\n",
      "cannot\n",
      "hesitate\n"
     ]
    }
   ],
   "source": [
    "import re, string\n",
    "words_container = str(input('input> '))\n",
    "clean_words = re.sub('[\\d'+string.punctuation+']', ' ', words_container)\n",
    "words = clean_words.split()\n",
    "sorted_words = sorted(words, key=len)           # key=len : 각 요소의 길이가 비교 키로 사용됨\n",
    "for word in sorted_words:\n",
    "    print(word)"
   ]
  },
  {
   "cell_type": "code",
   "execution_count": null,
   "metadata": {},
   "outputs": [],
   "source": []
  },
  {
   "attachments": {},
   "cell_type": "markdown",
   "metadata": {},
   "source": [
    "- 11720"
   ]
  },
  {
   "cell_type": "code",
   "execution_count": 46,
   "metadata": {},
   "outputs": [
    {
     "name": "stdout",
     "output_type": "stream",
     "text": [
      "46\n"
     ]
    }
   ],
   "source": [
    "count, numbers = list(map(str,input('input> ').split()))\n",
    "sum_numbers = 0\n",
    "for i in range(int(count)):\n",
    "    sum_numbers += int(numbers[i])\n",
    "print(sum_numbers)\n",
    "\n"
   ]
  },
  {
   "attachments": {},
   "cell_type": "markdown",
   "metadata": {},
   "source": [
    "- 4344"
   ]
  },
  {
   "cell_type": "code",
   "execution_count": 39,
   "metadata": {},
   "outputs": [],
   "source": [
    "count = int(input('input count> '))\n",
    "def input_area(count):\n",
    "    results = []\n",
    "    for i in range(count):\n",
    "        input_list = input(f'{i+1} 번째입력> ')\n",
    "        numbers_list = list(map(int,input_list.split()))\n",
    "        scr = numbers_list[1:]\n",
    "        results.append(calc(scr))\n",
    "    return results\n",
    "\n",
    "def calc(scr):\n",
    "    avg = sum(scr)/len(scr)\n",
    "    temp =(sum([1 for sc in scr if sc > avg])/len(scr))*100\n",
    "    return f'{temp:.3f}%'\n",
    "\n",
    "\n"
   ]
  },
  {
   "cell_type": "code",
   "execution_count": 41,
   "metadata": {},
   "outputs": [
    {
     "name": "stdout",
     "output_type": "stream",
     "text": [
      "57.143%\n",
      "55.556%\n"
     ]
    }
   ],
   "source": [
    "result = input_area(count)\n",
    "for res in result:\n",
    "    print(res)"
   ]
  },
  {
   "cell_type": "code",
   "execution_count": null,
   "metadata": {},
   "outputs": [],
   "source": [
    "5 50 50 70 80 100\n",
    "7 100 95 90 80 70 60 50\n",
    "3 70 90 80\n",
    "3 70 90 81\n",
    "9 100 99 98 97 96 95 94 93 91"
   ]
  },
  {
   "attachments": {},
   "cell_type": "markdown",
   "metadata": {},
   "source": [
    "- 25206"
   ]
  },
  {
   "cell_type": "code",
   "execution_count": 81,
   "metadata": {},
   "outputs": [],
   "source": [
    "class Score:\n",
    "    GRADE_TO_SCORE = {\n",
    "        'A+': 4.5,\n",
    "        'A0': 4.0,\n",
    "        'B+': 3.5,\n",
    "        'B0': 3.0,\n",
    "        'C+': 2.5,\n",
    "        'C0': 2.0,\n",
    "        'D+': 1.5,\n",
    "        'D0': 1.0,\n",
    "        'F': 0.0\n",
    "    }\n",
    "\n",
    "    def __init__(self, major, grade):\n",
    "        self.grade = grade\n",
    "        self.major = major\n",
    "        self.score = self.major * (self.ck_scr(self.grade))\n",
    "\n",
    "    def ck_scr(self, grade):\n",
    "        return Score.GRADE_TO_SCORE.get(grade, 0.0)\n"
   ]
  },
  {
   "cell_type": "code",
   "execution_count": 92,
   "metadata": {},
   "outputs": [],
   "source": [
    "temp_list = []\n",
    "temp_list_2 = []\n",
    "input_list = list(map(str,input('input> ').split()))\n",
    "trimmed_list = [input_list[i:i+3] for i in range(0,len(input_list),3)]\n",
    "\n",
    "for trim in trimmed_list:\n",
    "    if trim[2] != 'P':\n",
    "        score = Score(float(trim[1]),trim[2])\n",
    "        temp_list.append(score.score)\n",
    "        temp_list_2.append(score.major)\n",
    "        \n",
    "        "
   ]
  },
  {
   "cell_type": "code",
   "execution_count": 94,
   "metadata": {},
   "outputs": [
    {
     "name": "stdout",
     "output_type": "stream",
     "text": [
      "3.28448\n"
     ]
    }
   ],
   "source": [
    "result = sum(temp_list)/sum(temp_list_2)\n",
    "print(f'{result:.5f}')"
   ]
  },
  {
   "cell_type": "code",
   "execution_count": null,
   "metadata": {},
   "outputs": [],
   "source": []
  }
 ],
 "metadata": {
  "kernelspec": {
   "display_name": "base",
   "language": "python",
   "name": "python3"
  },
  "language_info": {
   "codemirror_mode": {
    "name": "ipython",
    "version": 3
   },
   "file_extension": ".py",
   "mimetype": "text/x-python",
   "name": "python",
   "nbconvert_exporter": "python",
   "pygments_lexer": "ipython3",
   "version": "3.10.9"
  },
  "orig_nbformat": 4
 },
 "nbformat": 4,
 "nbformat_minor": 2
}
