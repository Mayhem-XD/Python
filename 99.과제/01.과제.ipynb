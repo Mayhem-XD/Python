{
 "cells": [
  {
   "attachments": {},
   "cell_type": "markdown",
   "metadata": {},
   "source": [
    "### 1번   \n",
    "    - 알람시계 45분 일찍 설정"
   ]
  },
  {
   "cell_type": "code",
   "execution_count": 12,
   "metadata": {},
   "outputs": [
    {
     "name": "stdout",
     "output_type": "stream",
     "text": [
      "23 16\n"
     ]
    }
   ],
   "source": [
    "hour, minute = map(int,(input('시간 분 입력> ').split()))\n",
    "if 0 <= hour < 24 and 0 <= minute < 60:\n",
    "    if minute<45:\n",
    "        hour = (hour + 24 - 1) % 24\n",
    "        minute += 15\n",
    "    else:\n",
    "        minute -= 45\n",
    "    print(hour, minute)\n",
    "else:\n",
    "    print('잘못된 입력')"
   ]
  },
  {
   "attachments": {},
   "cell_type": "markdown",
   "metadata": {},
   "source": [
    "### 2번   \n",
    "    - 주사위 3개"
   ]
  },
  {
   "cell_type": "code",
   "execution_count": 43,
   "metadata": {},
   "outputs": [
    {
     "name": "stdout",
     "output_type": "stream",
     "text": [
      "3 6 5 상금은 600\n"
     ]
    }
   ],
   "source": [
    "import random\n",
    "dice = []\n",
    "for i in range(3):\n",
    "    dice.append(random.randint(1,6))\n",
    "    print(dice[i],end=' ')\n",
    "dice.sort()\n",
    "if dice[0]==dice[-1]:\n",
    "    money = 10000 + (dice[0] * 1000)\n",
    "elif dice[0]==dice[1] or dice[1]==dice[2]:\n",
    "    money = 1000 + (dice[1] * 100)\n",
    "else:\n",
    "    money = dice[-1] * 100\n",
    "print(f'상금은 {money:,d}')\n"
   ]
  },
  {
   "attachments": {},
   "cell_type": "markdown",
   "metadata": {},
   "source": [
    "### 3번   \n",
    "    - 완전수 구하기   \n",
    "    - 2에서 10000 사이의 완전수 구하기"
   ]
  },
  {
   "cell_type": "code",
   "execution_count": 44,
   "metadata": {},
   "outputs": [
    {
     "name": "stdout",
     "output_type": "stream",
     "text": [
      "완전수는 [6, 28, 496, 8128]\n"
     ]
    }
   ],
   "source": [
    "p_numbers = []\n",
    "\n",
    "for num in range(2, 10001):\n",
    "    temp = []\n",
    "    for i in range(1, num):\n",
    "        if num % i == 0:\n",
    "            temp.append(i)\n",
    "    sum_temp = sum(temp)\n",
    "    if sum_temp == num:\n",
    "        p_numbers.append(num)\n",
    "\n",
    "print(f'완전수는 {p_numbers}')\n"
   ]
  },
  {
   "attachments": {},
   "cell_type": "markdown",
   "metadata": {},
   "source": [
    "### 4번   \n",
    "    - 피타고라스의 수   \n",
    "    - 직각삼각형의 세변(a < b < c)이 있다.   \n",
    "    - a + b + c = 1000 을 만족시키는 직각삼각형의 세변을 구하세요. (단, a*a + b*b = c*c)"
   ]
  },
  {
   "cell_type": "code",
   "execution_count": 4,
   "metadata": {},
   "outputs": [
    {
     "name": "stdout",
     "output_type": "stream",
     "text": [
      "세변은: 200, 375, 425\n"
     ]
    }
   ],
   "source": [
    "for a in range(1, 333):         # max = 332 333 334\n",
    "    for b in range(a+1, 500):   # 500보다 크면 b<c 불가능\n",
    "        c = 1000 - a - b\n",
    "        if a*a + b*b == c*c:\n",
    "            print(f\"세변은: {a}, {b}, {c}\")\n",
    "\n"
   ]
  },
  {
   "cell_type": "code",
   "execution_count": null,
   "metadata": {},
   "outputs": [],
   "source": []
  }
 ],
 "metadata": {
  "kernelspec": {
   "display_name": "base",
   "language": "python",
   "name": "python3"
  },
  "language_info": {
   "codemirror_mode": {
    "name": "ipython",
    "version": 3
   },
   "file_extension": ".py",
   "mimetype": "text/x-python",
   "name": "python",
   "nbconvert_exporter": "python",
   "pygments_lexer": "ipython3",
   "version": "3.10.9"
  },
  "orig_nbformat": 4,
  "vscode": {
   "interpreter": {
    "hash": "acc397e6e57630401fa0713a6952f8738503b3953fba8d3c103d6d2be9d3c3ee"
   }
  }
 },
 "nbformat": 4,
 "nbformat_minor": 2
}
