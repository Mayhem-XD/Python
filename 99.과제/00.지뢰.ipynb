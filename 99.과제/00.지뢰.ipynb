{
 "cells": [
  {
   "attachments": {},
   "cell_type": "markdown",
   "metadata": {},
   "source": [
    "### 지뢰 찾기   \n",
    "    - 8x8 필드 만들기"
   ]
  },
  {
   "cell_type": "code",
   "execution_count": 3,
   "metadata": {},
   "outputs": [
    {
     "name": "stdout",
     "output_type": "stream",
     "text": [
      ". * * . . . * . \n",
      ". . . * * . * . \n",
      ". . * * . * . * \n",
      ". . . . . . . . \n",
      ". . * . . * . * \n",
      ". . * * . . . . \n",
      ". . . * * . * . \n",
      ". . . . . . . . \n"
     ]
    }
   ],
   "source": [
    "import random\n",
    "mines = []\n",
    "for i in range(8):\n",
    "    temp = []\n",
    "    for j in range(8):\n",
    "        mine = '*' if random.random() > 0.7 else '.'\n",
    "        temp.append(mine)\n",
    "    mines.append(temp)\n",
    "for i in range(8):\n",
    "    for j in range(8):\n",
    "        print(mines[i][j],end=' ')\n",
    "    print()"
   ]
  },
  {
   "cell_type": "code",
   "execution_count": 4,
   "metadata": {},
   "outputs": [
    {
     "name": "stdout",
     "output_type": "stream",
     "text": [
      ". * . . . . . . \n",
      ". * . . . . * . \n",
      ". . * * . . * * \n",
      ". * . . . . . . \n",
      ". * * . . . * . \n",
      "* . * . . . . * \n",
      ". . . . * . . . \n",
      "* * . . . . . . \n"
     ]
    }
   ],
   "source": [
    "mines = [['*' if random.random() > 0.7 else '.' for _ in range(8)] for _ in range(8)]\n",
    "for i in range(8):\n",
    "    for j in range(8):\n",
    "        print(mines[i][j],end=' ')\n",
    "    print()"
   ]
  },
  {
   "attachments": {},
   "cell_type": "markdown",
   "metadata": {},
   "source": [
    "- 입력을 받아 필드 만들기"
   ]
  },
  {
   "cell_type": "code",
   "execution_count": 18,
   "metadata": {},
   "outputs": [
    {
     "name": "stdout",
     "output_type": "stream",
     "text": [
      ". . . . . * . . * . . . \n",
      "* . * . . . * . * . . * \n",
      "* . . . . . * . . * . * \n",
      ". . . * . . . * * * . * \n"
     ]
    }
   ],
   "source": [
    "row, col = map(int,input().split())\n",
    "matrix = [['*' if random.random() > 0.7 else '.' for _ in range(col)] for _ in range(row)]\n",
    "\n",
    "\n",
    "for i in range(row):\n",
    "    for j in range(col):\n",
    "        print(matrix[i][j],end=' ')\n",
    "    print()"
   ]
  },
  {
   "attachments": {},
   "cell_type": "markdown",
   "metadata": {},
   "source": [
    "- 입력을 받아 필드를 만들고 지뢰 입력받기"
   ]
  },
  {
   "cell_type": "code",
   "execution_count": 26,
   "metadata": {},
   "outputs": [
    {
     "name": "stdout",
     "output_type": "stream",
     "text": [
      "* . \n",
      ". . \n"
     ]
    }
   ],
   "source": [
    "row, col = map(int,input().split())\n",
    "matrix = []\n",
    "for i in range(row):\n",
    "    matrix.append(list(input()))\n",
    "    matrix.insert(len(matrix[i]), '.')\n",
    "    \n",
    "\n",
    "\n",
    "for i in range(row+2):\n",
    "    for j in range(col+2):\n",
    "        print(matrix[i][j],end=' ')\n",
    "    print()"
   ]
  },
  {
   "cell_type": "code",
   "execution_count": null,
   "metadata": {},
   "outputs": [],
   "source": []
  }
 ],
 "metadata": {
  "kernelspec": {
   "display_name": "base",
   "language": "python",
   "name": "python3"
  },
  "language_info": {
   "codemirror_mode": {
    "name": "ipython",
    "version": 3
   },
   "file_extension": ".py",
   "mimetype": "text/x-python",
   "name": "python",
   "nbconvert_exporter": "python",
   "pygments_lexer": "ipython3",
   "version": "3.10.9"
  },
  "orig_nbformat": 4
 },
 "nbformat": 4,
 "nbformat_minor": 2
}
