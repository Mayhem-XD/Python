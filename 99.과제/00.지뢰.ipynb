{
 "cells": [
  {
   "attachments": {},
   "cell_type": "markdown",
   "metadata": {},
   "source": [
    "### 지뢰 찾기   \n",
    "    - 8x8 필드 만들기"
   ]
  },
  {
   "cell_type": "code",
   "execution_count": 4,
   "metadata": {},
   "outputs": [
    {
     "name": "stdout",
     "output_type": "stream",
     "text": [
      ". . * . . * . * \n",
      ". . * . . . . . \n",
      ". . . . . * . * \n",
      "* * . . . . * . \n",
      ". . * . . * . . \n",
      ". * * . . . . . \n",
      "* . * . * . . . \n",
      ". . . . * . . * \n"
     ]
    }
   ],
   "source": [
    "import random\n",
    "mines = []\n",
    "for i in range(8):\n",
    "    temp = []\n",
    "    for j in range(8):\n",
    "        mine = '*' if random.random() > 0.7 else '.'\n",
    "        temp.append(mine)\n",
    "    mines.append(temp)\n",
    "for i in range(8):\n",
    "    for j in range(8):\n",
    "        print(mines[i][j],end=' ')\n",
    "    print()"
   ]
  },
  {
   "cell_type": "code",
   "execution_count": 5,
   "metadata": {},
   "outputs": [
    {
     "name": "stdout",
     "output_type": "stream",
     "text": [
      "* * . * . . * . \n",
      ". * * * . . * . \n",
      ". . . . . . . * \n",
      "* * . . . . * . \n",
      ". . . . . . * * \n",
      ". . . . . . * . \n",
      ". . . . . . . . \n",
      "* . . . . . . * \n"
     ]
    }
   ],
   "source": [
    "mines = [['*' if random.random() > 0.7 else '.' for _ in range(8)] for _ in range(8)]\n",
    "for i in range(8):\n",
    "    for j in range(8):\n",
    "        print(mines[i][j],end=' ')\n",
    "    print()"
   ]
  },
  {
   "attachments": {},
   "cell_type": "markdown",
   "metadata": {},
   "source": [
    "- 입력을 받아 필드 만들기"
   ]
  },
  {
   "cell_type": "code",
   "execution_count": 6,
   "metadata": {},
   "outputs": [
    {
     "name": "stdout",
     "output_type": "stream",
     "text": [
      ". . . . \n",
      "* * * . \n",
      ". * . * \n",
      ". . * . \n"
     ]
    }
   ],
   "source": [
    "row, col = map(int,input().split())\n",
    "matrix = [['*' if random.random() > 0.7 else '.' for _ in range(col)] for _ in range(row)]\n",
    "\n",
    "\n",
    "for i in range(row):\n",
    "    for j in range(col):\n",
    "        print(matrix[i][j],end=' ')\n",
    "    print()"
   ]
  },
  {
   "attachments": {},
   "cell_type": "markdown",
   "metadata": {},
   "source": [
    "- 심사문제 조건으로 생성"
   ]
  },
  {
   "cell_type": "code",
   "execution_count": 28,
   "metadata": {},
   "outputs": [
    {
     "name": "stdout",
     "output_type": "stream",
     "text": [
      ". . * . \n",
      ". . . * \n",
      ". * . * \n",
      ". . . . \n"
     ]
    }
   ],
   "source": [
    "row, col = map(int,input().split())\n",
    "matrix = []\n",
    "for i in range(row):\n",
    "    matrix.append(list(input()))\n",
    "\n",
    "for i in range(row):\n",
    "    for j in range(col):\n",
    "        print(matrix[i][j],end=' ')\n",
    "    print()"
   ]
  },
  {
   "attachments": {},
   "cell_type": "markdown",
   "metadata": {},
   "source": [
    "- 입력받고 패딩주기"
   ]
  },
  {
   "cell_type": "code",
   "execution_count": 1,
   "metadata": {},
   "outputs": [
    {
     "name": "stdout",
     "output_type": "stream",
     "text": [
      ". . . . . . \n",
      ". . . * . . \n",
      ". . * . * . \n",
      ". . . . * . \n",
      ". * . . * . \n",
      ". . . . . . \n"
     ]
    }
   ],
   "source": [
    "row, col = map(int,input().split())\n",
    "matrix = []\n",
    "for i in range(row):\n",
    "    matrix.append(list(input()))\n",
    "\n",
    "add_first = ['.' for i in range(col)]\n",
    "add_last = ['.' for i in range(col)]\n",
    "matrix.insert(0,add_first)\n",
    "matrix.append(add_last)\n",
    "\n",
    "for i in range(row+2):\n",
    "    matrix[i].insert(0,'.')\n",
    "    matrix[i].append('.')\n",
    "\n",
    "for i in range(row+2):\n",
    "    for j in range(col+2):\n",
    "        print(matrix[i][j],end=' ')\n",
    "    print()"
   ]
  },
  {
   "attachments": {},
   "cell_type": "markdown",
   "metadata": {},
   "source": [
    "- 크기는 입력받고 지뢰는 랜덤생성"
   ]
  },
  {
   "cell_type": "code",
   "execution_count": 10,
   "metadata": {},
   "outputs": [
    {
     "name": "stdout",
     "output_type": "stream",
     "text": [
      ". . . . . . . . . . . . \n",
      ". * . . . . . . . . * . \n",
      ". * . * * . . . . . . . \n",
      ". . . . * * . . * . . . \n",
      ". . . . . . . . . * . . \n",
      ". * . . * * . . . . . . \n",
      ". . . . . . . . . . . . \n"
     ]
    }
   ],
   "source": [
    "import random\n",
    "row, col = map(int,input().split())\n",
    "matrix = [['*' if random.random() > 0.7 else '.' for _ in range(col)] for _ in range(row)]\n",
    "\n",
    "add_first = ['.' for i in range(col)]\n",
    "add_last = ['.' for i in range(col)]\n",
    "matrix.insert(0,add_first)\n",
    "matrix.append(add_last)\n",
    "\n",
    "for i in range(row+2):\n",
    "    matrix[i].insert(0,'.')\n",
    "    matrix[i].append('.')\n",
    "\n",
    "for i in range(row+2):\n",
    "    for j in range(col+2):\n",
    "        print(matrix[i][j],end=' ')\n",
    "    print()"
   ]
  },
  {
   "attachments": {},
   "cell_type": "markdown",
   "metadata": {},
   "source": [
    "(-1,-1) (-1,0) (-1,1)   \n",
    "(0,-1) (0,0) (0,1)   \n",
    "(1,-1) (1,0) (1,1) "
   ]
  },
  {
   "attachments": {},
   "cell_type": "markdown",
   "metadata": {},
   "source": [
    "- 인접한 8칸 지뢰 찾아서 지뢰 개수 반환하는 함수"
   ]
  },
  {
   "cell_type": "code",
   "execution_count": 11,
   "metadata": {},
   "outputs": [],
   "source": [
    "def check_mine(ck_mine,a,b):\n",
    "    count = 0\n",
    "    for q in range(-1,2):\n",
    "        for w in range(-1,2):\n",
    "            i = a + q\n",
    "            j = b + w\n",
    "            if ck_mine[i][j] == '*':\n",
    "                count += 1\n",
    "    return count"
   ]
  },
  {
   "attachments": {},
   "cell_type": "markdown",
   "metadata": {},
   "source": [
    "- 자기자신이 지뢰가 아니면 check_mine 함수 호출"
   ]
  },
  {
   "cell_type": "code",
   "execution_count": 12,
   "metadata": {},
   "outputs": [
    {
     "name": "stdout",
     "output_type": "stream",
     "text": [
      "* 3 2 2 1 0 0 0 1 * \n",
      "* 3 * * 3 1 1 1 2 1 \n",
      "1 2 3 * * 1 1 * 2 1 \n",
      "1 1 2 4 4 2 1 2 * 1 \n",
      "* 1 1 * * 1 0 1 1 1 \n"
     ]
    }
   ],
   "source": [
    "for i in range(1,row+1):\n",
    "    for j in range(1,col+1):\n",
    "        if matrix[i][j] != '*':\n",
    "            count = check_mine(matrix,i,j)\n",
    "            print(count,end=' ')\n",
    "        else:\n",
    "            print('*',end=' ')\n",
    "    print()\n",
    "\n",
    "\n"
   ]
  },
  {
   "cell_type": "code",
   "execution_count": null,
   "metadata": {},
   "outputs": [],
   "source": []
  }
 ],
 "metadata": {
  "kernelspec": {
   "display_name": "base",
   "language": "python",
   "name": "python3"
  },
  "language_info": {
   "codemirror_mode": {
    "name": "ipython",
    "version": 3
   },
   "file_extension": ".py",
   "mimetype": "text/x-python",
   "name": "python",
   "nbconvert_exporter": "python",
   "pygments_lexer": "ipython3",
   "version": "3.10.9"
  },
  "orig_nbformat": 4
 },
 "nbformat": 4,
 "nbformat_minor": 2
}
