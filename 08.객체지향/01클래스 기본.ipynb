{
 "cells": [
  {
   "attachments": {},
   "cell_type": "markdown",
   "metadata": {},
   "source": [
    "### 8-1. 클래스의 기본"
   ]
  },
  {
   "attachments": {},
   "cell_type": "markdown",
   "metadata": {},
   "source": [
    "- Person 자료 만들기"
   ]
  },
  {
   "cell_type": "code",
   "execution_count": 1,
   "metadata": {},
   "outputs": [],
   "source": [
    "# list\n",
    "person_list = ['James',175.0,70.0,2000]"
   ]
  },
  {
   "cell_type": "code",
   "execution_count": 2,
   "metadata": {},
   "outputs": [],
   "source": [
    "# dictionary\n",
    "person_dict = {\n",
    "    'name':'James',\n",
    "    'height':175.0,\n",
    "    'weight':70.0,\n",
    "    'brith_year':2000\n",
    "}"
   ]
  },
  {
   "cell_type": "code",
   "execution_count": 3,
   "metadata": {},
   "outputs": [],
   "source": [
    "# class\n",
    "class Person:\n",
    "    def __init__(self):\n",
    "        self.name = 'James'\n",
    "        self.height = 175.0\n",
    "        self.weight = 70.0\n",
    "        self.b_year = 2000"
   ]
  },
  {
   "cell_type": "code",
   "execution_count": 4,
   "metadata": {},
   "outputs": [
    {
     "name": "stdout",
     "output_type": "stream",
     "text": [
      "['James', 175.0, 70.0, 2000]\n",
      "{'name': 'James', 'height': 175.0, 'weight': 70.0, 'brith_year': 2000}\n"
     ]
    }
   ],
   "source": [
    "print(person_list)\n",
    "print(person_dict)"
   ]
  },
  {
   "cell_type": "code",
   "execution_count": 6,
   "metadata": {},
   "outputs": [
    {
     "name": "stdout",
     "output_type": "stream",
     "text": [
      "James 175.0 70.0 2000\n"
     ]
    }
   ],
   "source": [
    "james = Person()\n",
    "print(james.name, james.height, james.weight, james.b_year)"
   ]
  },
  {
   "cell_type": "code",
   "execution_count": 33,
   "metadata": {},
   "outputs": [],
   "source": [
    "# 범용적으로 만들어 객체를 생성할 때 구체적인 값을 할당\n",
    "# method의 시작하는 변수는 항상 self 이어야 함\n",
    "import datetime as dt\n",
    "class Person:\n",
    "    def __init__(self, name, height, weight, b_year):\n",
    "        self.name = name\n",
    "        self.height = height\n",
    "        self.weight = weight\n",
    "        self.b_year = b_year\n",
    "# method        // class 안에 있는 함수\n",
    "    def get_bmi(self):\n",
    "        bmi = self.weight / (self.height/100)**2\n",
    "        return round(bmi,2)\n",
    "    \n",
    "    def get_age(self):\n",
    "        now = dt.date.today()\n",
    "        return now.year - self.b_year\n",
    "    \n",
    "    def get_info(self):\n",
    "        return f'이름:{self.name}, 키 {self.height}cm, 체중: {self.weight}Kg,'+\\\n",
    "            f'BMI: {self.get_bmi()}, 나이: {self.get_age()}'"
   ]
  },
  {
   "cell_type": "code",
   "execution_count": 34,
   "metadata": {},
   "outputs": [],
   "source": [
    "james = Person('james',175.0,70.0,2000)\n",
    "maria = Person('maria',163.0,50.0,2001)"
   ]
  },
  {
   "attachments": {},
   "cell_type": "markdown",
   "metadata": {},
   "source": [
    "- Method\n",
    "    - 클래스가 가지는 함수\n",
    "    - 객체가 할 수 있는 행위를 모델링"
   ]
  },
  {
   "cell_type": "code",
   "execution_count": null,
   "metadata": {},
   "outputs": [],
   "source": [
    "#james = Person('james',175.0,70.0,2000) james라는 인스턴트를 만듬"
   ]
  },
  {
   "cell_type": "code",
   "execution_count": 16,
   "metadata": {},
   "outputs": [
    {
     "name": "stdout",
     "output_type": "stream",
     "text": [
      "james 의 BMI는 22.86 입니다.\n",
      "maria 의 BMI는 18.82 입니다.\n"
     ]
    }
   ],
   "source": [
    "print(f'{james.name} 의 BMI는 {james.get_bmi()} 입니다.')\n",
    "print(f'{maria.name} 의 BMI는 {maria.get_bmi()} 입니다.')"
   ]
  },
  {
   "cell_type": "code",
   "execution_count": 21,
   "metadata": {},
   "outputs": [
    {
     "name": "stdout",
     "output_type": "stream",
     "text": [
      "james 의 나이는 23 입니다.\n",
      "maria 의 나이는 22 입니다.\n"
     ]
    }
   ],
   "source": [
    "print(f'{james.name} 의 나이는 {james.get_age()} 입니다.')\n",
    "print(f'{maria.name} 의 나이는 {maria.get_age()} 입니다.')\n"
   ]
  },
  {
   "cell_type": "code",
   "execution_count": 24,
   "metadata": {},
   "outputs": [
    {
     "name": "stdout",
     "output_type": "stream",
     "text": [
      "이름:james, 키 175.0cm, 체중: 70.0Kg,BMI: 22.86, 나이: 23\n",
      "이름:maria, 키 163.0cm, 체중: 50.0Kg,BMI: 18.82, 나이: 22\n"
     ]
    }
   ],
   "source": [
    "print(james.get_info())\n",
    "print(maria.get_info())"
   ]
  },
  {
   "cell_type": "code",
   "execution_count": 35,
   "metadata": {},
   "outputs": [
    {
     "name": "stdout",
     "output_type": "stream",
     "text": [
      "이름:maria, 키 163.0cm, 체중: 48.0Kg,BMI: 18.07, 나이: 22\n"
     ]
    }
   ],
   "source": [
    "# 객체의 속성\n",
    "maria.weight -= 2\n",
    "print(maria.get_info())"
   ]
  },
  {
   "attachments": {},
   "cell_type": "markdown",
   "metadata": {},
   "source": [
    "- 연습문제 15\n",
    "    - 속성 값으로 나이와 잔액을 가지고 있음"
   ]
  },
  {
   "cell_type": "code",
   "execution_count": 29,
   "metadata": {},
   "outputs": [],
   "source": [
    "class Tmoney:\n",
    "    def __init__(self,age,balance):\n",
    "        self.age = age\n",
    "        self.balance = balance\n",
    "\n",
    "    def pay(self):\n",
    "        if 7<= self.age <= 12:\n",
    "            fare = 650\n",
    "        elif 13<= self.age <= 18:\n",
    "            fare = 1050\n",
    "        elif self.age >=19:\n",
    "            fare = 1250\n",
    "        else:\n",
    "            fare = 0\n",
    "        if self.balance < fare:\n",
    "            print(f'잔액이 부족합니다. ㅜㅜ')\n",
    "            return\n",
    "        self.balance -= fare\n",
    "        print(f'{self.age}살의 요금은 {fare} 이고, 잔액은 {self.balance:,d}입니다.')\n",
    "    \n",
    "    def charge(self, amount):\n",
    "        self.balance += amount\n",
    "        print(f'{amount:,d}원을 충전였고 잔액은 {self.balance:,d}입니다.')\n",
    "\n",
    "\n",
    "\n"
   ]
  },
  {
   "cell_type": "code",
   "execution_count": 26,
   "metadata": {},
   "outputs": [
    {
     "name": "stdout",
     "output_type": "stream",
     "text": [
      "15의 요금은 1050 이고, 잔액은 8,950입니다.\n",
      "15의 요금은 1050 이고, 잔액은 7,900입니다.\n",
      "15의 요금은 1050 이고, 잔액은 6,850입니다.\n",
      "15의 요금은 1050 이고, 잔액은 5,800입니다.\n",
      "15의 요금은 1050 이고, 잔액은 4,750입니다.\n",
      "15의 요금은 1050 이고, 잔액은 3,700입니다.\n",
      "15의 요금은 1050 이고, 잔액은 2,650입니다.\n",
      "15의 요금은 1050 이고, 잔액은 1,600입니다.\n",
      "15의 요금은 1050 이고, 잔액은 550입니다.\n",
      "잔액이 부족합니다. ㅜㅜ\n"
     ]
    }
   ],
   "source": [
    "card = Tmoney(15,10000)\n",
    "for i in range(10):\n",
    "    card.pay()"
   ]
  },
  {
   "cell_type": "code",
   "execution_count": 27,
   "metadata": {},
   "outputs": [
    {
     "name": "stdout",
     "output_type": "stream",
     "text": [
      "10,000원을 충전였고 잔액은 10,550입니다.\n"
     ]
    }
   ],
   "source": [
    "card.charge(10000)"
   ]
  },
  {
   "cell_type": "code",
   "execution_count": 31,
   "metadata": {},
   "outputs": [
    {
     "name": "stdout",
     "output_type": "stream",
     "text": [
      "10살의 요금은 650 이고, 잔액은 9,350입니다.\n"
     ]
    }
   ],
   "source": [
    "age, bal = map(int,input().split())\n",
    "card_ = Tmoney(age, bal)\n",
    "card_.pay()"
   ]
  },
  {
   "cell_type": "code",
   "execution_count": null,
   "metadata": {},
   "outputs": [],
   "source": []
  }
 ],
 "metadata": {
  "kernelspec": {
   "display_name": "base",
   "language": "python",
   "name": "python3"
  },
  "language_info": {
   "codemirror_mode": {
    "name": "ipython",
    "version": 3
   },
   "file_extension": ".py",
   "mimetype": "text/x-python",
   "name": "python",
   "nbconvert_exporter": "python",
   "pygments_lexer": "ipython3",
   "version": "3.10.10"
  },
  "orig_nbformat": 4
 },
 "nbformat": 4,
 "nbformat_minor": 2
}
