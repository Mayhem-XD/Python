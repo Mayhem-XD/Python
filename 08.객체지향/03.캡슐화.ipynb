{
 "cells": [
  {
   "attachments": {},
   "cell_type": "markdown",
   "metadata": {},
   "source": [
    "### 8-3. 캡슐화(Encapsulation)"
   ]
  },
  {
   "cell_type": "code",
   "execution_count": 1,
   "metadata": {},
   "outputs": [],
   "source": [
    "# 속성값에 __를 붙이면 비공개 속성이 되어서\n",
    "# 혹시라도 있을 수 있는 오류를 방지할 수 있음\n",
    "# 비공개 속성을 엑세스 하기 위해서 Getter/Setter를 만들어 줌"
   ]
  },
  {
   "cell_type": "code",
   "execution_count": 9,
   "metadata": {},
   "outputs": [],
   "source": [
    "class Tmoney:\n",
    "    def __init__(self,age,balance):\n",
    "        self.age = age\n",
    "        self.__balance = balance\n",
    "\n",
    "    def pay(self):\n",
    "        if 7<= self.age <= 12:\n",
    "            fare = 650\n",
    "        elif 13<= self.age <= 18:\n",
    "            fare = 1050\n",
    "        elif self.age >=19:\n",
    "            fare = 1250\n",
    "        else:\n",
    "            fare = 0\n",
    "        if self.__balance < fare:\n",
    "            print(f'잔액이 부족합니다. ㅜㅜ')\n",
    "            return\n",
    "        self.__balance -= fare\n",
    "        print(f'{self.age}살의 요금은 {fare} 이고, 잔액은 {self.__balance:,d}입니다.')\n",
    "    \n",
    "    def charge(self, amount):\n",
    "        self.__balance += amount\n",
    "        print(f'{amount:,d}원을 충전였고 잔액은 {self.__balance:,d}입니다.')\n"
   ]
  },
  {
   "cell_type": "code",
   "execution_count": 10,
   "metadata": {},
   "outputs": [
    {
     "data": {
      "text/plain": [
       "15"
      ]
     },
     "execution_count": 10,
     "metadata": {},
     "output_type": "execute_result"
    }
   ],
   "source": [
    "tmoney = Tmoney(15,10000)\n",
    "tmoney.age"
   ]
  },
  {
   "cell_type": "code",
   "execution_count": 6,
   "metadata": {},
   "outputs": [
    {
     "ename": "AttributeError",
     "evalue": "'Tmoney' object has no attribute '__balance'",
     "output_type": "error",
     "traceback": [
      "\u001b[1;31m---------------------------------------------------------------------------\u001b[0m",
      "\u001b[1;31mAttributeError\u001b[0m                            Traceback (most recent call last)",
      "Cell \u001b[1;32mIn[6], line 1\u001b[0m\n\u001b[1;32m----> 1\u001b[0m tmoney\u001b[39m.\u001b[39;49m__balance\n",
      "\u001b[1;31mAttributeError\u001b[0m: 'Tmoney' object has no attribute '__balance'"
     ]
    }
   ],
   "source": [
    "tmoney.__balance"
   ]
  },
  {
   "cell_type": "code",
   "execution_count": 11,
   "metadata": {},
   "outputs": [
    {
     "name": "stdout",
     "output_type": "stream",
     "text": [
      "15살의 요금은 1050 이고, 잔액은 8,950입니다.\n",
      "15살의 요금은 1050 이고, 잔액은 7,900입니다.\n",
      "15살의 요금은 1050 이고, 잔액은 6,850입니다.\n",
      "15살의 요금은 1050 이고, 잔액은 5,800입니다.\n",
      "15살의 요금은 1050 이고, 잔액은 4,750입니다.\n",
      "15살의 요금은 1050 이고, 잔액은 3,700입니다.\n",
      "15살의 요금은 1050 이고, 잔액은 2,650입니다.\n",
      "15살의 요금은 1050 이고, 잔액은 1,600입니다.\n",
      "15살의 요금은 1050 이고, 잔액은 550입니다.\n",
      "잔액이 부족합니다. ㅜㅜ\n"
     ]
    }
   ],
   "source": [
    "tmoney = Tmoney(15,10000)\n",
    "for i in range(10):\n",
    "    tmoney.pay()"
   ]
  },
  {
   "cell_type": "code",
   "execution_count": 12,
   "metadata": {},
   "outputs": [
    {
     "name": "stdout",
     "output_type": "stream",
     "text": [
      "10,000원을 충전였고 잔액은 10,550입니다.\n"
     ]
    }
   ],
   "source": [
    "tmoney.charge(10000)"
   ]
  },
  {
   "attachments": {},
   "cell_type": "markdown",
   "metadata": {},
   "source": [
    "- 연습문제\n",
    "    - 이름, 나이, 주소, 지갑(wallet)을 속성으로 갖는 Person 클래스\n",
    "    - 지갑은 비공개 속성으로 할 것\n",
    "    - __str__ 메소드를 만들어서 이름,나이,주소,지갑을 출력할 수 있게 할것"
   ]
  },
  {
   "cell_type": "code",
   "execution_count": 39,
   "metadata": {},
   "outputs": [],
   "source": [
    "class Person:\n",
    "    def __init__(self,name,age,addr,wallet):\n",
    "        self.name = name\n",
    "        self.age = age\n",
    "        self.addr = addr\n",
    "        self.__wallet =wallet\n",
    "\n",
    "    def __str__(self):\n",
    "        return f'이름 : {self.name}, 나이 : {self.age}세, 주소 : {self.addr}, 지갑에 {self.__wallet:,d}원 있음'\n",
    "    "
   ]
  },
  {
   "cell_type": "code",
   "execution_count": 40,
   "metadata": {},
   "outputs": [],
   "source": [
    "james = Person('James',10,'경기도 어디',10000)"
   ]
  },
  {
   "cell_type": "code",
   "execution_count": 41,
   "metadata": {},
   "outputs": [
    {
     "name": "stdout",
     "output_type": "stream",
     "text": [
      "이름 : James, 나이 : 10세, 주소 : 경기도 어디, 지갑에 10,000원 있음\n"
     ]
    }
   ],
   "source": [
    "print(james)"
   ]
  },
  {
   "cell_type": "code",
   "execution_count": 43,
   "metadata": {},
   "outputs": [
    {
     "name": "stdout",
     "output_type": "stream",
     "text": [
      "이름 : James, 나이 : 10세, 주소 : 충청도 어디, 지갑에 10,000원 있음\n"
     ]
    }
   ],
   "source": [
    "james.addr = '충청도 어디'\n",
    "print(james)"
   ]
  },
  {
   "attachments": {},
   "cell_type": "markdown",
   "metadata": {},
   "source": [
    "- getter/setter"
   ]
  },
  {
   "cell_type": "code",
   "execution_count": 44,
   "metadata": {},
   "outputs": [],
   "source": [
    "class Person:\n",
    "    def __init__(self,name,age,addr,wallet):\n",
    "        self.name = name\n",
    "        self.age = age\n",
    "        self.addr = addr\n",
    "        self.__wallet =wallet\n",
    "\n",
    "    def __str__(self):\n",
    "        return f'이름 : {self.name}, 나이 : {self.age}세, 주소 : {self.addr}, 지갑에 {self.__wallet:,d}원 있음'\n",
    "    \n",
    "    def get_wallet(self):               # getter\n",
    "        return self.__wallet\n",
    "    \n",
    "    def set_wallet(self,wallet):        # setter\n",
    "        self.__wallet = wallet"
   ]
  },
  {
   "cell_type": "code",
   "execution_count": 46,
   "metadata": {},
   "outputs": [
    {
     "name": "stdout",
     "output_type": "stream",
     "text": [
      "이름 : James, 나이 : 10세, 주소 : 경기도 어디, 지갑에 10,000원 있음\n",
      "10000\n"
     ]
    }
   ],
   "source": [
    "james = Person('James',10,'경기도 어디',10000)\n",
    "print(james)\n",
    "print(james.get_wallet())"
   ]
  },
  {
   "cell_type": "code",
   "execution_count": 48,
   "metadata": {},
   "outputs": [
    {
     "name": "stdout",
     "output_type": "stream",
     "text": [
      "30000\n"
     ]
    }
   ],
   "source": [
    "james.set_wallet(30000)\n",
    "print(james.get_wallet())"
   ]
  },
  {
   "attachments": {},
   "cell_type": "markdown",
   "metadata": {},
   "source": [
    "- 비공개 메소드"
   ]
  },
  {
   "cell_type": "code",
   "execution_count": 53,
   "metadata": {},
   "outputs": [],
   "source": [
    "class Worker:\n",
    "    def __greeting(self):\n",
    "        print('__greeting(): 안녕하세요')\n",
    "    \n",
    "    def hello(self):            #__ 없으면 외부에서 불러쓰기 가능, 있으면 내부에서\n",
    "        self.__greeting()\n"
   ]
  },
  {
   "cell_type": "code",
   "execution_count": 55,
   "metadata": {},
   "outputs": [
    {
     "name": "stdout",
     "output_type": "stream",
     "text": [
      "__greeting(): 안녕하세요\n"
     ]
    }
   ],
   "source": [
    "worker = Worker()\n",
    "worker.hello()"
   ]
  },
  {
   "cell_type": "code",
   "execution_count": null,
   "metadata": {},
   "outputs": [],
   "source": []
  }
 ],
 "metadata": {
  "kernelspec": {
   "display_name": "base",
   "language": "python",
   "name": "python3"
  },
  "language_info": {
   "codemirror_mode": {
    "name": "ipython",
    "version": 3
   },
   "file_extension": ".py",
   "mimetype": "text/x-python",
   "name": "python",
   "nbconvert_exporter": "python",
   "pygments_lexer": "ipython3",
   "version": "3.10.10"
  },
  "orig_nbformat": 4
 },
 "nbformat": 4,
 "nbformat_minor": 2
}
