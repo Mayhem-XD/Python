{
 "cells": [
  {
   "cell_type": "code",
   "execution_count": 7,
   "metadata": {},
   "outputs": [
    {
     "name": "stdout",
     "output_type": "stream",
     "text": [
      "1683\n"
     ]
    }
   ],
   "source": [
    "sum_3 = 0\n",
    "for i in range(3,101,3):\n",
    "    sum_3 += i\n",
    "print(sum_3)"
   ]
  },
  {
   "cell_type": "code",
   "execution_count": 11,
   "metadata": {},
   "outputs": [
    {
     "name": "stdout",
     "output_type": "stream",
     "text": [
      "29\n"
     ]
    }
   ],
   "source": [
    "import math\n",
    "num1, num2 = map(int,input().split())\n",
    "sum_pow = 0\n",
    "for i in range(num1,num2+1):\n",
    "    sum_pow += math.pow(i,2)\n",
    "print(int(sum_pow))"
   ]
  },
  {
   "cell_type": "code",
   "execution_count": 13,
   "metadata": {},
   "outputs": [
    {
     "name": "stdout",
     "output_type": "stream",
     "text": [
      "1330\n"
     ]
    }
   ],
   "source": [
    "num_odd = 0\n",
    "for i in range(1,21,2):\n",
    "    num_odd += math.pow(i,2)\n",
    "print(int(num_odd))"
   ]
  },
  {
   "cell_type": "code",
   "execution_count": 14,
   "metadata": {},
   "outputs": [
    {
     "name": "stdout",
     "output_type": "stream",
     "text": [
      "1330\n"
     ]
    }
   ],
   "source": [
    "num_odd = sum(math.pow(i,2) for i in range(1,21,2))\n",
    "print(int(num_odd))"
   ]
  },
  {
   "cell_type": "code",
   "execution_count": 18,
   "metadata": {},
   "outputs": [],
   "source": [
    "import datetime as dt\n",
    "class Member:\n",
    "    def __init__(self,mid,name,birth_year,tel):\n",
    "        self.mid = mid\n",
    "        self.name = name\n",
    "        self.birth_year = birth_year\n",
    "        self.__tel = tel\n",
    "    def get_age(self):\n",
    "        now = dt.datetime.today()\n",
    "        return now.year - self.birth_year\n",
    "    def set_tel(self,tel):        \n",
    "        self.__tel = tel\n",
    "        return\n",
    "    def __str__(self):\n",
    "        return f'ID: {self.mid}, 이름: {self.name}, 나이: {self.get_age()}, 전화번호: {self.__tel}'"
   ]
  },
  {
   "cell_type": "code",
   "execution_count": 19,
   "metadata": {},
   "outputs": [
    {
     "name": "stdout",
     "output_type": "stream",
     "text": [
      "ID: jms, 이름: James, 나이: 23, 전화번호: 010-5555-9999\n",
      "ID: mar, 이름: Maria, 나이: 22, 전화번호: 010-1111-2222\n"
     ]
    }
   ],
   "source": [
    "james = Member('jms', 'James', 2000, '010-1234-5678' )\n",
    "maria = Member('mar', 'Maria', 2001, '010-9876-5432' )\n",
    "james.set_tel('010-5555-9999')\n",
    "maria.set_tel('010-1111-2222')\n",
    "print(james)\n",
    "print(maria)"
   ]
  },
  {
   "attachments": {},
   "cell_type": "markdown",
   "metadata": {},
   "source": [
    "#### 소수   \n",
    "    - get_divisors (1~NUM 약수 구해 근데 여기서 약수의 갯수가 2개이면)\n",
    "        - divisors = [i for i in range(1, num+1) if num % i == 0]\n",
    "        - result = True if len(divisors) == 2 else False\n",
    "    - 2 ~ num-1 까지 루프 돌려서 if num % i == 0: return False for문 끝날때 return True\n",
    "    - 3 내가 한거"
   ]
  },
  {
   "cell_type": "code",
   "execution_count": 1,
   "metadata": {},
   "outputs": [],
   "source": [
    "def is_prime(num):\n",
    "    if num < 2:\n",
    "        return False\n",
    "    if num == 2 or num == 3:\n",
    "        return True\n",
    "    for i in range(2, int(num**0.5) + 1):\n",
    "        if num % i == 0:\n",
    "            return False\n",
    "    return True\n"
   ]
  },
  {
   "cell_type": "code",
   "execution_count": 2,
   "metadata": {},
   "outputs": [
    {
     "name": "stdout",
     "output_type": "stream",
     "text": [
      "True\n"
     ]
    }
   ],
   "source": [
    "print(is_prime(101))"
   ]
  },
  {
   "cell_type": "code",
   "execution_count": 25,
   "metadata": {},
   "outputs": [
    {
     "name": "stdout",
     "output_type": "stream",
     "text": [
      "[2, 3, 5, 7, 11, 13, 17, 19, 23, 29, 31, 37, 41, 43, 47, 53, 59, 61, 67, 71, 73, 79, 83, 89, 97]\n"
     ]
    }
   ],
   "source": [
    "result = []\n",
    "for i in range(2,101):\n",
    "    if is_prime(i) == True:\n",
    "        result.append(i)\n",
    "print(result)\n"
   ]
  },
  {
   "cell_type": "code",
   "execution_count": 28,
   "metadata": {},
   "outputs": [
    {
     "name": "stdout",
     "output_type": "stream",
     "text": [
      "[2, 3, 5, 7, 11, 13, 17, 19, 23, 29, 31, 37, 41, 43, 47, 53, 59, 61, 67, 71, 73, 79, 83, 89, 97]\n"
     ]
    }
   ],
   "source": [
    "results = [i for i in range(2,101) if is_prime(i) == True]\n",
    "print(results)"
   ]
  },
  {
   "cell_type": "code",
   "execution_count": null,
   "metadata": {},
   "outputs": [],
   "source": []
  }
 ],
 "metadata": {
  "kernelspec": {
   "display_name": "base",
   "language": "python",
   "name": "python3"
  },
  "language_info": {
   "codemirror_mode": {
    "name": "ipython",
    "version": 3
   },
   "file_extension": ".py",
   "mimetype": "text/x-python",
   "name": "python",
   "nbconvert_exporter": "python",
   "pygments_lexer": "ipython3",
   "version": "3.10.10"
  },
  "orig_nbformat": 4
 },
 "nbformat": 4,
 "nbformat_minor": 2
}
