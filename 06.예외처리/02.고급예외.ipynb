{
 "cells": [
  {
   "cell_type": "markdown",
   "metadata": {},
   "source": [
    "### 6-2. 고급 예외"
   ]
  },
  {
   "cell_type": "code",
   "execution_count": 2,
   "metadata": {},
   "outputs": [
    {
     "name": "stdout",
     "output_type": "stream",
     "text": [
      "<class 'IndexError'> list index out of range\n"
     ]
    }
   ],
   "source": [
    "a = [1,2,3]\n",
    "try:\n",
    "    print(a[3])\n",
    "except Exception as e:\n",
    "    print(type(e), e)"
   ]
  },
  {
   "cell_type": "code",
   "execution_count": 4,
   "metadata": {},
   "outputs": [
    {
     "name": "stdout",
     "output_type": "stream",
     "text": [
      "0으로 나눌수 없음\n"
     ]
    }
   ],
   "source": [
    "try:\n",
    "    x = int(input())\n",
    "    y = 100 / x\n",
    "    print(y, a[x])\n",
    "except ValueError:\n",
    "    print('입력값이 틀림')\n",
    "except IndexError:\n",
    "    print('인덱스 에러')\n",
    "except ZeroDivisionError:\n",
    "    print('0으로 나눌수 없음')\n",
    "except Exception:           # 개별 에러랑 같이 사용시엔 제일 마지막에 위치\n",
    "    print('예외 발생')"
   ]
  },
  {
   "attachments": {},
   "cell_type": "markdown",
   "metadata": {},
   "source": [
    "- 예외 발생(raise)"
   ]
  },
  {
   "cell_type": "code",
   "execution_count": 5,
   "metadata": {},
   "outputs": [
    {
     "name": "stdout",
     "output_type": "stream",
     "text": [
      "세변은: 200, 375, 425\n"
     ]
    }
   ],
   "source": [
    "# a+b+c = 1000(a<b<c)\n",
    "try:\n",
    "    for a in range(1, 333):         \n",
    "        for b in range(a+1, 500):   \n",
    "            c = 1000 - a - b\n",
    "            if a*a + b*b == c*c:\n",
    "                print(f\"세변은: {a}, {b}, {c}\")\n",
    "                raise Exception         # 의도적으로 예외를 발생시켜 모든 Loop 탈출\n",
    "except:\n",
    "    pass\n",
    "\n"
   ]
  },
  {
   "cell_type": "code",
   "execution_count": null,
   "metadata": {},
   "outputs": [],
   "source": []
  }
 ],
 "metadata": {
  "kernelspec": {
   "display_name": "base",
   "language": "python",
   "name": "python3"
  },
  "language_info": {
   "codemirror_mode": {
    "name": "ipython",
    "version": 3
   },
   "file_extension": ".py",
   "mimetype": "text/x-python",
   "name": "python",
   "nbconvert_exporter": "python",
   "pygments_lexer": "ipython3",
   "version": "3.10.10"
  },
  "orig_nbformat": 4
 },
 "nbformat": 4,
 "nbformat_minor": 2
}
