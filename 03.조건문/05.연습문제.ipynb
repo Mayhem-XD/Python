{
 "cells": [
  {
   "attachments": {},
   "cell_type": "markdown",
   "metadata": {},
   "source": [
    "- Q1. 생일을 입력으로 받아 오늘 현재의 만 나이를 계산하고, 띠를 알려주세요"
   ]
  },
  {
   "cell_type": "code",
   "execution_count": 43,
   "metadata": {},
   "outputs": [
    {
     "name": "stdout",
     "output_type": "stream",
     "text": [
      "2000 3 31\n"
     ]
    }
   ],
   "source": [
    "# 생년월일을 입력으로 받아서 정수로 변환하기\n",
    "b_year, b_month, b_day = map(int,input('yyyy mm dd> ').split())\n",
    "print(b_year, b_month, b_day)"
   ]
  },
  {
   "cell_type": "code",
   "execution_count": 44,
   "metadata": {},
   "outputs": [
    {
     "name": "stdout",
     "output_type": "stream",
     "text": [
      "22\n"
     ]
    }
   ],
   "source": [
    "import datetime\n",
    "t = datetime.date.today()\n",
    "month = b_month - t.month\n",
    "day = b_day - t.day\n",
    "age = t.year - b_year\n",
    "if month >= 0 and day > 0:\n",
    "    age -= 1\n",
    "print(age)"
   ]
  },
  {
   "cell_type": "code",
   "execution_count": 45,
   "metadata": {},
   "outputs": [
    {
     "name": "stdout",
     "output_type": "stream",
     "text": [
      "진\n"
     ]
    }
   ],
   "source": [
    "# 띠 계산\n",
    "# 생년을 12로 나눈 나머지\n",
    "# 0 - 원숭이, 1 - 닭,.... 11 - 양\n",
    "animals = '신유술해자축인묘진사오미'\n",
    "print(animals[b_year % 12])\n"
   ]
  },
  {
   "cell_type": "code",
   "execution_count": 46,
   "metadata": {},
   "outputs": [
    {
     "name": "stdout",
     "output_type": "stream",
     "text": [
      "용\n"
     ]
    }
   ],
   "source": [
    "animals = '원숭이 닭 개 돼지 쥐 소 호랑이 토끼 용 뱀 말 양'.split()\n",
    "print(animals[b_year % 12])\n"
   ]
  },
  {
   "attachments": {},
   "cell_type": "markdown",
   "metadata": {},
   "source": [
    "- Q2. FizzBuzz"
   ]
  },
  {
   "cell_type": "code",
   "execution_count": 49,
   "metadata": {},
   "outputs": [
    {
     "name": "stdout",
     "output_type": "stream",
     "text": [
      "Buzz\n"
     ]
    }
   ],
   "source": [
    "# 15 나눠지면 fizzbuzz 3으로 나눠지면 fizz 5로 나눠지면 buzz 아니면 숫자\n",
    "num = int(input('양의 정수> '))\n",
    "if num % 15 == 0:\n",
    "    print('FizzBuzz')\n",
    "elif num % 3 == 0:\n",
    "    print('Fizz')\n",
    "elif num % 5 ==0:\n",
    "    print('Buzz')\n",
    "else:\n",
    "    print(num)\n"
   ]
  },
  {
   "cell_type": "code",
   "execution_count": 56,
   "metadata": {},
   "outputs": [
    {
     "name": "stdout",
     "output_type": "stream",
     "text": [
      "12 Fizz\n"
     ]
    }
   ],
   "source": [
    "num = int(input('양의 정수> '))                                             # Short-Circuit rule\n",
    "print(num, 'Fizz'*(num % 3 == 0) + 'Buzz'*(num % 5 == 0) or num)            # 둘다 만족 안하면 NullString + NullString = False"
   ]
  },
  {
   "cell_type": "code",
   "execution_count": null,
   "metadata": {},
   "outputs": [],
   "source": []
  }
 ],
 "metadata": {
  "kernelspec": {
   "display_name": "base",
   "language": "python",
   "name": "python3"
  },
  "language_info": {
   "codemirror_mode": {
    "name": "ipython",
    "version": 3
   },
   "file_extension": ".py",
   "mimetype": "text/x-python",
   "name": "python",
   "nbconvert_exporter": "python",
   "pygments_lexer": "ipython3",
   "version": "3.10.9"
  },
  "orig_nbformat": 4
 },
 "nbformat": 4,
 "nbformat_minor": 2
}
